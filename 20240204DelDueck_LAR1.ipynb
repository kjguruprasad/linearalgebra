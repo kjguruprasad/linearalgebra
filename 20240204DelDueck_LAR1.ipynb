{
  "cells": [
    {
      "cell_type": "markdown",
      "metadata": {
        "id": "view-in-github",
        "colab_type": "text"
      },
      "source": [
        "<a href=\"https://colab.research.google.com/github/kjguruprasad/linearalgebra/blob/main/20240204DelDueck_LAR1.ipynb\" target=\"_parent\"><img src=\"https://colab.research.google.com/assets/colab-badge.svg\" alt=\"Open In Colab\"/></a>"
      ]
    },
    {
      "cell_type": "markdown",
      "id": "8fc2c8bf-0628-460f-8fed-738630f71106",
      "metadata": {
        "id": "8fc2c8bf-0628-460f-8fed-738630f71106"
      },
      "source": [
        "# Linear Algebra 1\n",
        "This notebook is intended to be a companion of our Linear Algebra Class\n",
        "\n",
        "### Content\n",
        "*  1st hour:\n",
        "    - Why Linear Algebra\n",
        "    - Vectors notation and properties\n",
        "    - Vector Decomposition\n",
        "    - Norm, Angle, distance, projections\n",
        "    - Dot Product of Vectors\n",
        "    - Cross Product of Vectors\n",
        "* 2nd Hour:\n",
        "    - Vector Demo in Python\n",
        "    - Linear Independence\n",
        "    - Orthogonality\n",
        "    - Definition of Matrix\n",
        "    - Understanding matrix as system of linear regression\n",
        "    - Understanding matrix as system of vectors\n",
        "    - Matrix addition, scalar multiplication\n",
        "* 3rd Hour:\n",
        "    - Matrix Multiplication\n",
        "    - Linear Transformation\n",
        "    - Determinant\n",
        "    - Rank of Matrix\n",
        "    - Row echelon form\n",
        "    - Singular Matrix\n",
        "    - Invertible matrices\n",
        "    - Transpose of matrices & properties\n",
        "* 4th Hour:\n",
        "  - Inverse of matrices\n",
        "  - Apply matrix algebra, transpose and zero and identity matrices\n",
        "  - Diagonalization\n",
        "  - Eigenvalues\n",
        "  - Eingevectors\n",
        "\n",
        "## Vectors\n",
        "* Magnitute and Direction\n",
        "* Examples: Force, Velocity\n",
        "* Basic Operations:\n",
        "    - Sum and Substraction: Same Direction, Opposite Direction,\n",
        "    - Parallelogram Law\n",
        "    - Scalar Multiplication\n",
        "    - Vector Decomposition\n",
        "    - Norm\n",
        "    - Distance\n",
        "* Dot Product\n",
        "* Angle\n",
        "* Projection\n",
        "* Cross Product\n",
        "* Linear Independence & Orthogonality\n",
        "* Usages\n",
        "* Python Applications\n",
        "### Magnitude and Direction\n",
        "Vectors always have magnitude (also called norm or length) and direction (often represented by angles)\n",
        "### Vectors in Python\n",
        "Vectors in Python are simply numpy arrays. You can create then using np.array():"
      ]
    },
    {
      "cell_type": "code",
      "execution_count": null,
      "id": "7734bc37-8ecf-4dba-9fdd-b7a9357bbb75",
      "metadata": {
        "id": "7734bc37-8ecf-4dba-9fdd-b7a9357bbb75"
      },
      "outputs": [],
      "source": [
        "import numpy as np\n",
        "a_2d = np.array([2,2])\n",
        "b_2d = np.array([3,3])"
      ]
    },
    {
      "cell_type": "markdown",
      "id": "6d523312-5f5b-419a-9931-af2dec20e3ed",
      "metadata": {
        "id": "6d523312-5f5b-419a-9931-af2dec20e3ed"
      },
      "source": [
        "**a and b vectors:**\n",
        "\n",
        "![a_b.png](attachment:a4b7c8d6-2002-4730-a35e-e90c4da1f1b7.png)\n"
      ]
    },
    {
      "cell_type": "markdown",
      "id": "7b6461d2-fdde-4754-9347-518b9be0555f",
      "metadata": {
        "id": "7b6461d2-fdde-4754-9347-518b9be0555f"
      },
      "source": [
        "### Addition and Substraction\n",
        "To sum two vectors that have the same direction, the result will be a vectore with the same direction and summed lengths:"
      ]
    },
    {
      "cell_type": "code",
      "execution_count": null,
      "id": "bb0d5b62-cca5-46ba-8e8b-4be5863215d2",
      "metadata": {
        "id": "bb0d5b62-cca5-46ba-8e8b-4be5863215d2",
        "outputId": "88f1d653-ddd8-4ed9-bc9b-cc792e2eeff5"
      },
      "outputs": [
        {
          "name": "stdout",
          "output_type": "stream",
          "text": [
            "[5 5]\n"
          ]
        }
      ],
      "source": [
        "c_2d = a_2d + b_2d\n",
        "print(c_2d)"
      ]
    },
    {
      "cell_type": "markdown",
      "id": "ca650bc6-8a2d-432c-9867-a87107193b99",
      "metadata": {
        "id": "ca650bc6-8a2d-432c-9867-a87107193b99"
      },
      "source": [
        "Representation:\n",
        "\n",
        "![sum_a_b.png](attachment:d5c6d859-6e00-415b-b341-f6a3e0fd30f3.png)\n",
        "\n",
        "Remember that substraction (a-b) can also be represented by an addition (a+(-b)):\n",
        "\n",
        "![substraction.png](attachment:5070b0ae-83a0-4315-b28f-db94c755fbb2.png)"
      ]
    },
    {
      "cell_type": "markdown",
      "id": "c45c9e3c-e5ab-4c7b-8ae1-18752b0faacf",
      "metadata": {
        "id": "c45c9e3c-e5ab-4c7b-8ae1-18752b0faacf"
      },
      "source": [
        "When the two vectors have different directions, we can use the parallelogram law (or the triangle law):\n",
        "\n",
        "![parallelogram.png](attachment:edfee2dd-555f-4f92-806a-1bdb0aac04ad.png)\n",
        "\n",
        "Given the length of each vector and the angle between then, we can calculate the length and angle of the result:\n",
        "\n",
        "![parallelogram_formula.png](attachment:c8b4283a-e45b-4c59-9884-1a4194811cfb.png)\n",
        "\n",
        "***\n",
        "### Scalar Multiplication\n",
        "Multiplying a vector by a scalar give us a vector with the same direction:\n",
        "\n",
        "![scalar_mult.png](attachment:b75633e8-531d-4750-8558-dfd0097102a5.png)\n"
      ]
    },
    {
      "cell_type": "code",
      "execution_count": null,
      "id": "eba60cfb-d0e2-4466-8297-ee3a9be69283",
      "metadata": {
        "id": "eba60cfb-d0e2-4466-8297-ee3a9be69283",
        "outputId": "2d75d65f-0a07-472f-80b9-d741281b6199"
      },
      "outputs": [
        {
          "name": "stdout",
          "output_type": "stream",
          "text": [
            "[3, 3, 3, 3, 3, 3]\n"
          ]
        }
      ],
      "source": [
        "a = [3,3]\n",
        "b = 3* a\n",
        "print(b)"
      ]
    },
    {
      "cell_type": "code",
      "execution_count": null,
      "id": "9e30544b-6883-4477-9efb-c315efdac469",
      "metadata": {
        "id": "9e30544b-6883-4477-9efb-c315efdac469",
        "outputId": "9687ac56-c124-4722-a0a9-c612f37802e3"
      },
      "outputs": [
        {
          "name": "stdout",
          "output_type": "stream",
          "text": [
            "[9 9]\n"
          ]
        }
      ],
      "source": [
        "import numpy as np\n",
        "a = np.array([3,3])\n",
        "b = 3*a\n",
        "print(b)"
      ]
    },
    {
      "cell_type": "markdown",
      "id": "0c7cd448-1d8b-4b9c-9176-8e2a3338b9f8",
      "metadata": {
        "id": "0c7cd448-1d8b-4b9c-9176-8e2a3338b9f8"
      },
      "source": [
        "### Decomposition of a Vector\n",
        "We have already being using this notation, but showing a vector as a composite of 1-dimension vectors is useful, because we know how to deal with scalars:\n",
        "\n",
        "![decompose.png](attachment:ed5ed46a-b372-40e6-b729-88ed18ed7a07.png)\n"
      ]
    },
    {
      "cell_type": "markdown",
      "id": "68621edf-8060-413f-b4a5-2d7266b3c089",
      "metadata": {
        "id": "68621edf-8060-413f-b4a5-2d7266b3c089"
      },
      "source": [
        "### Norm\n",
        "Norm is the length of the vector (magnitude). We can calculate it using the decompositions we just mentioned:\n",
        "![norm.png](attachment:97ad7e18-3c15-43d7-a4cf-39baebd4882f.png)"
      ]
    },
    {
      "cell_type": "markdown",
      "id": "181e05e4-1949-4664-a390-4ff97b211ab1",
      "metadata": {
        "id": "181e05e4-1949-4664-a390-4ff97b211ab1"
      },
      "source": [
        "In Python we could calculate it using the np.linalg.norm() function:"
      ]
    },
    {
      "cell_type": "code",
      "execution_count": null,
      "id": "59d76a89-0cc8-4481-a3c1-c009a634758d",
      "metadata": {
        "id": "59d76a89-0cc8-4481-a3c1-c009a634758d",
        "outputId": "f06c2945-9e4a-4200-d1ee-067ea803fe98"
      },
      "outputs": [
        {
          "name": "stdout",
          "output_type": "stream",
          "text": [
            "8.94427190999916\n"
          ]
        }
      ],
      "source": [
        "import math\n",
        "import numpy as np\n",
        "a = np.array([8,4])\n",
        "length = math.sqrt((8**2)+(4**2))\n",
        "print(length)"
      ]
    },
    {
      "cell_type": "code",
      "execution_count": null,
      "id": "9fc9904f-586d-4d9f-b882-2f6e511b8c37",
      "metadata": {
        "id": "9fc9904f-586d-4d9f-b882-2f6e511b8c37",
        "outputId": "ffbb7831-f8b0-41d5-d141-229224aa8eec"
      },
      "outputs": [
        {
          "name": "stdout",
          "output_type": "stream",
          "text": [
            "8.94427190999916\n"
          ]
        }
      ],
      "source": [
        "x = np.linalg.norm(a)\n",
        "print(x)"
      ]
    },
    {
      "cell_type": "markdown",
      "id": "d04c533c-54ea-40f8-a14f-b90969ed362b",
      "metadata": {
        "id": "d04c533c-54ea-40f8-a14f-b90969ed362b"
      },
      "source": [
        "### Distance\n",
        "Distance is a very used calculation in many ML algorithms (such as k-means clusters). We use the following formula to calculate it:\n",
        "![distance.png](attachment:16d144f3-3057-4e0d-bcfc-52eb67575e44.png)\n",
        "It can also be calculated as norm(a-b).\n",
        "### Example\n",
        "Let's work with two 2D vectors (a and b):\n",
        "\n",
        "![example_1a.png](attachment:370057b5-301e-4c1b-8313-8b445a818bf9.png)\n",
        "\n",
        "Let's calculate the norm of each vector, the norm of the sum of a and b and finally the distance between a and b. Let's do it first using math module and the formulas we just learned:\n"
      ]
    },
    {
      "cell_type": "code",
      "execution_count": null,
      "id": "bfde3afc-8b31-4b22-8fac-adafdb9179b8",
      "metadata": {
        "id": "bfde3afc-8b31-4b22-8fac-adafdb9179b8",
        "outputId": "b5092eb3-2876-4870-c4e8-7121fda5e8da"
      },
      "outputs": [
        {
          "name": "stdout",
          "output_type": "stream",
          "text": [
            "norma = 10.44030650891055\n",
            "normb = 7.615773105863909\n",
            "norm_sum = 16.401219466856727\n",
            "distance = 8.06225774829855\n"
          ]
        }
      ],
      "source": [
        "a = [10,3]\n",
        "b = [3,7]\n",
        "import math\n",
        "norma = math.sqrt((a[0]**2)+(a[1]**2))\n",
        "normb = math.sqrt((b[0]**2)+(b[1]**2))\n",
        "angle_a = math.asin(a[1]/norma)\n",
        "angle_b = math.asin(b[1]/normb)\n",
        "teta = angle_b - angle_a\n",
        "norm_sum = math.sqrt((norma**2)+(normb**2)+2*norma*normb*math.cos(teta))\n",
        "distance = math.sqrt(((a[0]-b[0])**2)+((a[1]-b[1])**2))\n",
        "print(f'{norma = }')\n",
        "print(f'{normb = }')\n",
        "print(f'{norm_sum = }')\n",
        "print(f'{distance = }')"
      ]
    },
    {
      "cell_type": "markdown",
      "id": "3beba964-d989-4dfe-b7f2-6ade862ca7d9",
      "metadata": {
        "id": "3beba964-d989-4dfe-b7f2-6ade862ca7d9"
      },
      "source": [
        "It makes more sense to use NumPy norm function:"
      ]
    },
    {
      "cell_type": "code",
      "execution_count": null,
      "id": "0f5b2d62-c756-4172-841f-aba9bfbb06cb",
      "metadata": {
        "id": "0f5b2d62-c756-4172-841f-aba9bfbb06cb",
        "outputId": "0827333c-24c8-4cc8-ee8f-45a93dfba122"
      },
      "outputs": [
        {
          "name": "stdout",
          "output_type": "stream",
          "text": [
            "norma = 10.44030650891055\n",
            "normb = 7.615773105863909\n",
            "norm_sum = 16.401219466856727\n",
            "distance = 8.06225774829855\n"
          ]
        }
      ],
      "source": [
        "a = np.array(a)\n",
        "b = np.array(b)\n",
        "\n",
        "norma = np.linalg.norm(a)\n",
        "normb = np.linalg.norm(b)\n",
        "norm_sum = np.linalg.norm(a+b)\n",
        "distance = np.linalg.norm(a-b) #distance\n",
        "print(f'{norma = }')\n",
        "print(f'{normb = }')\n",
        "print(f'{norm_sum = }')\n",
        "print(f'{distance = }')"
      ]
    },
    {
      "cell_type": "markdown",
      "id": "08283bca-0ebb-4ae2-8879-8c1068c45358",
      "metadata": {
        "id": "08283bca-0ebb-4ae2-8879-8c1068c45358"
      },
      "source": [
        "### Dot Product\n",
        "Dot product, or scalar product, represents how close the vectors align. If 0, the vectors are orthogonal, if positive, they are aligned to \"similar\" directions. It can be calculated using the scalar coordinates of the vectors:\n",
        "\n",
        "![dot_1.png](attachment:856c88aa-90f6-45fd-816c-9825deb412e2.png)\n",
        "\n",
        "Or the magnitudes and angle:\n",
        "\n",
        "![dot_2.png](attachment:720866c5-04db-4416-947d-e086daa14808.png)\n",
        "\n",
        "Two 2D vectors examples with angle<90:\n",
        "\n",
        "![dot_3.png](attachment:d8ded7a8-e4fe-4912-a92d-5981600ae6eb.png)\n"
      ]
    },
    {
      "cell_type": "code",
      "execution_count": null,
      "id": "549c7c8b-9255-40b0-8c53-bddaaad030bb",
      "metadata": {
        "id": "549c7c8b-9255-40b0-8c53-bddaaad030bb",
        "outputId": "d2f63d7f-4a21-42d8-aedf-c58a25bc79cc"
      },
      "outputs": [
        {
          "name": "stdout",
          "output_type": "stream",
          "text": [
            "51.0\n",
            "51\n",
            "51\n"
          ]
        }
      ],
      "source": [
        "u = np.array([3,7])\n",
        "v = np.array([10,3])\n",
        "teta = math.acos((u[0]*v[0]+u[1]*v[1])/(math.sqrt(u[0]**2+u[1]**2)*math.sqrt(v[0]**2+v[1]**2))) # We will see this formula soon.\n",
        "dot_uv = math.sqrt(u[0]**2+u[1]**2)*math.sqrt(v[0]**2+v[1]**2)*math.cos(teta)\n",
        "print(dot_uv)\n",
        "dot_uv_alt = u[0]*v[0]+u[1]*v[1]\n",
        "print(dot_uv_alt)\n",
        "print(np.dot(u,v))"
      ]
    },
    {
      "cell_type": "markdown",
      "id": "f9e9258a-1510-4eb4-a46e-fde727051fd3",
      "metadata": {
        "id": "f9e9258a-1510-4eb4-a46e-fde727051fd3"
      },
      "source": [
        "Two 2D vectors examples with angle=180:\n",
        "\n",
        "![dot_4.png](attachment:3c865067-96c7-43ec-ad1a-047e76e92925.png)"
      ]
    },
    {
      "cell_type": "code",
      "execution_count": null,
      "id": "bbdb95a7-7a2f-4f8f-9e59-4da2e996d66b",
      "metadata": {
        "id": "bbdb95a7-7a2f-4f8f-9e59-4da2e996d66b",
        "outputId": "029bfe5d-2b3a-478a-b3d8-47e38f355025"
      },
      "outputs": [
        {
          "name": "stdout",
          "output_type": "stream",
          "text": [
            "-12.999999999999998\n",
            "-13\n",
            "-13\n"
          ]
        }
      ],
      "source": [
        "u = np.array([-2,-3])\n",
        "v = np.array([2,3])\n",
        "teta = math.pi\n",
        "dot_uv = math.sqrt(u[0]**2+u[1]**2)*math.sqrt(v[0]**2+v[1]**2)*math.cos(teta)\n",
        "print(dot_uv)\n",
        "dot_uv_alt = u[0]*v[0]+u[1]*v[1]\n",
        "print(dot_uv_alt)\n",
        "print(np.dot(u,v))"
      ]
    },
    {
      "cell_type": "markdown",
      "id": "72e9eeed-e632-4bce-b9f3-c787cb4634ac",
      "metadata": {
        "id": "72e9eeed-e632-4bce-b9f3-c787cb4634ac"
      },
      "source": [
        "Two 2D vectors examples with angle=90:\n",
        "\n",
        "![dot_6.png](attachment:13a1bdb4-fa02-4ce5-90a5-a77e12148f89.png)"
      ]
    },
    {
      "cell_type": "code",
      "execution_count": null,
      "id": "e8eaf4d6-ff7f-48f3-80c6-b035a12b615d",
      "metadata": {
        "id": "e8eaf4d6-ff7f-48f3-80c6-b035a12b615d",
        "outputId": "7348a5de-56ff-46c6-8486-095a0cf3a5f8"
      },
      "outputs": [
        {
          "name": "stdout",
          "output_type": "stream",
          "text": [
            "9.797174393178826e-16\n",
            "0\n",
            "0\n"
          ]
        }
      ],
      "source": [
        "u = np.array([4,0])\n",
        "v = np.array([0,4])\n",
        "teta = math.pi/2\n",
        "dot_uv = math.sqrt(u[0]**2+u[1]**2)*math.sqrt(v[0]**2+v[1]**2)*math.cos(teta)\n",
        "print(dot_uv)\n",
        "dot_uv_alt = u[0]*v[0]+u[1]*v[1]\n",
        "print(dot_uv_alt)\n",
        "print(np.dot(u,v))"
      ]
    },
    {
      "cell_type": "markdown",
      "id": "d2908ad3-f50a-46b6-907d-15ba0cb66752",
      "metadata": {
        "id": "d2908ad3-f50a-46b6-907d-15ba0cb66752"
      },
      "source": [
        "Quick reminder of how cos(x) behave:"
      ]
    },
    {
      "cell_type": "code",
      "execution_count": null,
      "id": "1d4af091-a250-4ea4-bee0-6420e4bc8bae",
      "metadata": {
        "id": "1d4af091-a250-4ea4-bee0-6420e4bc8bae",
        "outputId": "eb0217ee-058d-4d05-da6e-ddd47e8f6950"
      },
      "outputs": [
        {
          "data": {
            "image/png": "[encoded data removed]",
            "text/plain": [
              "<Figure size 640x480 with 1 Axes>"
            ]
          },
          "metadata": {},
          "output_type": "display_data"
        }
      ],
      "source": [
        "x = [i/10 for i in range(0,130)]\n",
        "y = [math.cos(j) for j in x]\n",
        "import matplotlib.pyplot as plt\n",
        "plt.plot(x, y)\n",
        "plt.xlabel('x')\n",
        "plt.ylabel('cos(x)')\n",
        "plt.title('cos(x)')\n",
        "plt.grid(True)\n",
        "plt.axvline(x=math.pi/2, color='r', linestyle='--', label='pi/2')\n",
        "plt.axvline(x=math.pi, color='g', linestyle='--', label='pi')\n",
        "plt.axhline(y=0, color='b', linestyle='-')\n",
        "plt.legend()\n",
        "plt.show()"
      ]
    },
    {
      "cell_type": "markdown",
      "id": "804c6e21-f4d8-4219-a3a2-123df75534b0",
      "metadata": {
        "id": "804c6e21-f4d8-4219-a3a2-123df75534b0"
      },
      "source": [
        "### Angle\n",
        "To calculate angle of two vectors, we use simple geometry:\n",
        "\n",
        "![angle.png](attachment:d305ca60-c7b3-4d8d-99b8-760f54ea6afa.png)\n",
        "\n",
        "The easiest way to calculate angle is to use arc cos of dot(u,v)/norm(u)*norm(v):\n",
        "\n",
        "![angle_2.png](attachment:f67036e7-00ae-4604-a39b-4cdce709411e.png)"
      ]
    },
    {
      "cell_type": "code",
      "execution_count": null,
      "id": "2267a2fb-574a-414b-9b2b-5ee797482728",
      "metadata": {
        "id": "2267a2fb-574a-414b-9b2b-5ee797482728",
        "outputId": "3b0186f4-ad5e-44a1-dc98-ff2432ff8d0c"
      },
      "outputs": [
        {
          "name": "stdout",
          "output_type": "stream",
          "text": [
            "angle = 0.8320796291729496 rads\n",
            "math.cos(angle) = 0.673339678200224\n"
          ]
        }
      ],
      "source": [
        "a = np.array([10,3,2,3])\n",
        "b = np.array([3,7,4,5])\n",
        "import math\n",
        "import numpy as np\n",
        "angle = math.acos((np.dot(a,b))/(np.linalg.norm(a)*np.linalg.norm(b)))\n",
        "print(f'{angle = } rads')\n",
        "print(f'{math.cos(angle) = }')"
      ]
    },
    {
      "cell_type": "markdown",
      "id": "01233298-cef1-4de8-9f18-6f32707c058f",
      "metadata": {
        "id": "01233298-cef1-4de8-9f18-6f32707c058f"
      },
      "source": [
        "### Projection\n",
        "Projection is the shadow of a vector in another vector:\n",
        "\n",
        "![projection1.png](attachment:14cde457-5746-4d08-9f38-a55ed74409a7.png)\n",
        "\n",
        "To calculate the magnitude of the projection we can use the dot product divided by the norm of the second vector:\n",
        "\n",
        "![projection2.png](attachment:96cf3451-012a-4640-bb63-9b196074bcb0.png)\n",
        "\n",
        "Then, to figure out the vector itself, we just need to do a scalar multiplication on the second vector. We will multiply the vector by the ratio of norm(projection)/norm(second vector):\n",
        "\n",
        "![projection3.png](attachment:cd9afa39-6e0b-4aaa-9a5f-9a313e612975.png)\n",
        "\n",
        "\n"
      ]
    },
    {
      "cell_type": "markdown",
      "id": "4b959b8b-780e-43c9-a9f1-4c9d28a58c96",
      "metadata": {
        "id": "4b959b8b-780e-43c9-a9f1-4c9d28a58c96"
      },
      "source": [
        "### Example"
      ]
    },
    {
      "cell_type": "code",
      "execution_count": null,
      "id": "443b33bc-62df-4162-b33c-85d98677dd80",
      "metadata": {
        "id": "443b33bc-62df-4162-b33c-85d98677dd80",
        "outputId": "1dc6e860-62b4-4623-c166-05e3fc68b90c"
      },
      "outputs": [
        {
          "name": "stdout",
          "output_type": "stream",
          "text": [
            "0.19999999999999998\n",
            "[0.4 0.8 1. ]\n"
          ]
        }
      ],
      "source": [
        "a = np.array([1,-2,3])\n",
        "b = np.array([2,4,5])\n",
        "norm_b = np.linalg.norm(b)\n",
        "dot_ab = np.dot(a,b)\n",
        "norm_proj = dot_ab/norm_b\n",
        "print(norm_proj/norm_b)\n",
        "proj = (norm_proj/norm_b)*b\n",
        "print(proj)"
      ]
    },
    {
      "cell_type": "code",
      "execution_count": null,
      "id": "245a0b5b-5865-40e8-b64b-60a378300c40",
      "metadata": {
        "id": "245a0b5b-5865-40e8-b64b-60a378300c40",
        "outputId": "257a34cc-6cee-425d-b474-61a37230552a"
      },
      "outputs": [
        {
          "data": {
            "image/png": "[encoded data removed]",
            "text/plain": [
              "<Figure size 640x480 with 1 Axes>"
            ]
          },
          "metadata": {},
          "output_type": "display_data"
        }
      ],
      "source": [
        "x = [i/10 for i in range(0,130)]\n",
        "y = [math.sin(j) for j in x]\n",
        "import matplotlib.pyplot as plt\n",
        "plt.plot(x, y)\n",
        "plt.xlabel('x')\n",
        "plt.ylabel('sin(x)')\n",
        "plt.title('sin(x)')\n",
        "plt.grid(True)\n",
        "plt.axvline(x=math.pi/2, color='r', linestyle='--', label='pi/2')\n",
        "plt.axvline(x=math.pi, color='g', linestyle='--', label='pi')\n",
        "plt.axhline(y=0, color='b', linestyle='-')\n",
        "plt.legend()\n",
        "plt.show()"
      ]
    },
    {
      "cell_type": "markdown",
      "id": "da3059fc-d6be-4cd5-82cd-f3c8fc673c29",
      "metadata": {
        "id": "da3059fc-d6be-4cd5-82cd-f3c8fc673c29"
      },
      "source": [
        "### Cross Product\n",
        "A cross product of u x v is a vector. The direction of it will be perpendicular to the plan of u and v. The magnitude of the vector is given by:\n",
        "\n",
        "![cross_product.png](attachment:5a9aca81-24fc-4a25-b44a-13a5f9de7c07.png)\n",
        "\n",
        "The direction it will also be perpendicular of the plan of u and v:\n",
        "\n",
        "![cross_product2.png](attachment:25fb806c-973c-4bfb-af6c-6bae350cdc12.png)\n",
        "\n",
        "We can also use matrix notation to calculate the corr product of two vectors:\n",
        "\n",
        "![cross_product3.png](attachment:1cd8025c-74f3-40b9-abf9-5b7fd22c3e11.png)\n",
        "\n",
        "### Example:"
      ]
    },
    {
      "cell_type": "code",
      "execution_count": null,
      "id": "581a55f6-410f-4400-8789-1dd4e032b22f",
      "metadata": {
        "id": "581a55f6-410f-4400-8789-1dd4e032b22f",
        "outputId": "9340b417-7aee-412a-96e4-f2c9855ce60a"
      },
      "outputs": [
        {
          "name": "stdout",
          "output_type": "stream",
          "text": [
            "u x v coordinates are: [30, 5, -8]\n",
            "|u x v| = 31.448370387032774\n",
            "The angle between w and u is 90.0 degrees\n",
            "The angle between w and v is 90.0 degrees\n"
          ]
        }
      ],
      "source": [
        "# Using only math module\n",
        "u = [1,2,5]\n",
        "v = [2,-4,5]\n",
        "norm_u = math.sqrt(u[0]**2+u[1]**2+u[2]**2)\n",
        "norm_v = math.sqrt(v[0]**2+v[1]**2+v[2]**2)\n",
        "w = [u[1]*v[2]-u[2]*v[1],-u[0]*v[2]+u[2]*v[0],u[0]*v[1]-u[1]*v[0]]\n",
        "print(f'u x v coordinates are: {w}')\n",
        "norm_w = math.sqrt(w[0]**2+w[1]**2+w[2]**2)\n",
        "print(f'|u x v| = {norm_w}')\n",
        "dot_wu = w[0]*u[0]+w[1]*u[1]+w[2]*u[2]\n",
        "dot_wv = w[0]*v[0]+w[1]*v[1]+w[2]*v[2]\n",
        "angle_wu = math.acos(dot_wu/(norm_w*norm_u))\n",
        "angle_wv = math.acos(dot_wv/(norm_w*norm_v))\n",
        "print(f'The angle between w and u is {math.degrees(angle_wu)} degrees')\n",
        "print(f'The angle between w and v is {math.degrees(angle_wv)} degrees')\n"
      ]
    },
    {
      "cell_type": "code",
      "execution_count": null,
      "id": "a006c37b-5cd4-4299-850f-476e2699357c",
      "metadata": {
        "id": "a006c37b-5cd4-4299-850f-476e2699357c",
        "outputId": "d8e2f32d-165c-4835-965d-34272e9181b3"
      },
      "outputs": [
        {
          "name": "stdout",
          "output_type": "stream",
          "text": [
            "u x v coordinates are: [30  5 -8]\n",
            "|u x v| = 31.448370387032774\n"
          ]
        }
      ],
      "source": [
        "# Using NumPy\n",
        "u = np.array([1,2,5])\n",
        "v = np.array([2,-4,5])\n",
        "w = np.cross(u,v)\n",
        "print(f'u x v coordinates are: {w}')\n",
        "norm_w = np.linalg.norm(w)\n",
        "print(f'|u x v| = {norm_w}')"
      ]
    },
    {
      "cell_type": "markdown",
      "id": "b46cfc0a-644d-4fba-b556-fd1448f9e5fc",
      "metadata": {
        "id": "b46cfc0a-644d-4fba-b556-fd1448f9e5fc"
      },
      "source": [
        "## Matrices\n",
        "* Classic Notation\n",
        "* Matrices as Linear Equations\n",
        "* Ploting a Matrix as Vectors\n",
        "* Matrix Operations\n",
        "    - Addition of two matrices of the same size\n",
        "    - Scalar Multiplication\n",
        "    - Matrix Multiplication\n",
        "* Linear Transformation\n",
        "* Determinant\n",
        "* Rank of a Matrix\n",
        "* Row Echolon Form\n",
        "* Singular\n",
        "* Transpose of Matrix\n",
        "* Inverse of Matrix\n",
        "* Eigenvector & Eigenvalue"
      ]
    },
    {
      "cell_type": "markdown",
      "id": "6ab9c266-7aff-4186-bd34-26ee1322b5b1",
      "metadata": {
        "id": "6ab9c266-7aff-4186-bd34-26ee1322b5b1"
      },
      "source": [
        "### Classic Notation\n",
        "A classic notation of a mxn matrix:\n",
        "\n",
        "![matrix_notation.png](attachment:b49490cd-df01-4bfd-96f1-10726734c0b0.png)\n",
        "\n"
      ]
    },
    {
      "cell_type": "markdown",
      "id": "0e5a752b-caf4-4586-b0e6-4b5e0af2489d",
      "metadata": {
        "id": "0e5a752b-caf4-4586-b0e6-4b5e0af2489d"
      },
      "source": [
        "### Matrices as Linear Equations\n",
        "\n",
        "Linear Equations can alsways be represented by a matrix:\n",
        "\n",
        "![linear_equations.png](attachment:86410538-2a15-423c-8543-f2f571d413cc.png)\n",
        "\n",
        "2D equations can easily be solved visually.\n",
        "\n"
      ]
    },
    {
      "cell_type": "markdown",
      "id": "63aa1851-3c48-4df3-a734-477b8c9a5ba3",
      "metadata": {
        "id": "63aa1851-3c48-4df3-a734-477b8c9a5ba3"
      },
      "source": [
        "### Matrices as Vectors\n",
        "Another way to visualize a matrix is as vectors.\n",
        "\n",
        "![matrix_as_vectors.png](attachment:41047184-86e0-44eb-b39a-5fc834ea4ea5.png)\n"
      ]
    },
    {
      "cell_type": "markdown",
      "id": "d94e6026-632d-43b4-8d5c-20b9c4b409ba",
      "metadata": {
        "id": "d94e6026-632d-43b4-8d5c-20b9c4b409ba"
      },
      "source": [
        "### Matrix Operations\n",
        "- Addition of two matrices of the same size\n",
        "- Scalar Multiplication\n",
        "- Matrix Multiplication\n",
        "\n",
        "**Addition**\n",
        "\n",
        "Given two matrices with same dimensions, the sum of the two matrices will have each element as the sum of elements at the corresponding positions:\n",
        "\n",
        "![addition_matrices.png](attachment:0ed3be70-af13-48d2-aaae-a13f880c2879.png)"
      ]
    },
    {
      "cell_type": "code",
      "execution_count": null,
      "id": "7a2ee3d1-fc7f-456d-afaa-fa078ef3abb7",
      "metadata": {
        "id": "7a2ee3d1-fc7f-456d-afaa-fa078ef3abb7",
        "outputId": "dce52756-dd49-4511-8622-913412e450b5"
      },
      "outputs": [
        {
          "name": "stdout",
          "output_type": "stream",
          "text": [
            "[[11  3]\n",
            " [ 7  7]]\n"
          ]
        }
      ],
      "source": [
        "import numpy as np\n",
        "A = np.array([[1,2],[2,4]])\n",
        "B = np.array([[10,1],[5,3]])\n",
        "print(A+B)"
      ]
    },
    {
      "cell_type": "markdown",
      "id": "95506073-48ee-46a2-b23f-4c1f93036045",
      "metadata": {
        "id": "95506073-48ee-46a2-b23f-4c1f93036045"
      },
      "source": [
        "**Scalar Multiplication**\n",
        "\n",
        "Multiplying a matrix by a scalar will result in a matrix with same dimension, each element will be multiplied:\n",
        "\n",
        "![scalar_multiplication.png](attachment:e39d8f81-1221-4fac-a8ca-d63fbd7a6798.png)\n"
      ]
    },
    {
      "cell_type": "code",
      "execution_count": null,
      "id": "d90d5465-aed6-48e6-acfb-c4ee82e03107",
      "metadata": {
        "id": "d90d5465-aed6-48e6-acfb-c4ee82e03107",
        "outputId": "537465e0-b5d1-429d-facf-f7aa2d023698"
      },
      "outputs": [
        {
          "name": "stdout",
          "output_type": "stream",
          "text": [
            "[[ 3  6  9]\n",
            " [12 15 18]\n",
            " [21 24 27]]\n"
          ]
        }
      ],
      "source": [
        "A = np.array([[1,2,3],[4,5,6],[7,8,9]])\n",
        "print(3*A)"
      ]
    },
    {
      "cell_type": "markdown",
      "id": "ada05511-6cda-4217-b3a9-5b37be0aedd3",
      "metadata": {
        "id": "ada05511-6cda-4217-b3a9-5b37be0aedd3"
      },
      "source": [
        "Scalar Addition will work in the same manner, adding 3 to a matrix will result in a new matrix with each element added 3.\n",
        "\n",
        "**Matrix Multiplication**\n",
        "\n",
        "Matrix multiplication is less trivial than the other operations, each element will be the sum of multiplication of corresponding elements of each row of the first matrix by the corresponding elements of each column of the second matrix:\n",
        "\n",
        "![matrix_multiplication.png](attachment:8e3036ea-7059-4be5-9aa8-cccd60039581.png)\n",
        "\n",
        "The resulting matrix has the same number of rows as the first matrix and the same number of columns as the second matrix. The number of columns in the first matrix must be equal to the number of rows in the second matrix for matrix multiplication to be possible.\n",
        "\n",
        "![matrix_mult_2.png](attachment:a8e8c8ab-2145-4ca0-8e7d-afbcd5ec3858.png)\n",
        "\n",
        "np.matmul can help with the calculation. Remember that AB is not equal as BA."
      ]
    },
    {
      "cell_type": "code",
      "execution_count": null,
      "id": "03eab342-ac29-4643-ab64-597d60099cee",
      "metadata": {
        "id": "03eab342-ac29-4643-ab64-597d60099cee",
        "outputId": "b6fe7d9c-2f46-46d7-cf3c-40c49379c60a"
      },
      "outputs": [
        {
          "name": "stdout",
          "output_type": "stream",
          "text": [
            "[[2 2]\n",
            " [2 2]]\n",
            "[[14 13]\n",
            " [13 14]]\n"
          ]
        }
      ],
      "source": [
        "import numpy as np\n",
        "A = np.array([[1,2],[2,1]])\n",
        "B = np.array([[2,1],[1,2]])\n",
        "E = A*B ##### Careful, this is an array multiplication\n",
        "print(E)\n",
        "C = np.matmul(A,B)\n",
        "D = np.matmul(A,C)\n",
        "print(D)"
      ]
    },
    {
      "cell_type": "code",
      "execution_count": null,
      "id": "0eff199d-f2ef-4072-b1f3-ba05e76f5e5f",
      "metadata": {
        "id": "0eff199d-f2ef-4072-b1f3-ba05e76f5e5f",
        "outputId": "589a636f-d666-4966-d29d-9a0345f0ce9e"
      },
      "outputs": [
        {
          "name": "stdout",
          "output_type": "stream",
          "text": [
            "[[-3 -2]\n",
            " [10  7]]\n",
            "[[ 4 -3  5]\n",
            " [ 7 -4  9]\n",
            " [ 3 -1  4]]\n"
          ]
        }
      ],
      "source": [
        "A = np.array([[1,-2,1],[2,1,3]])\n",
        "B = np.array([[2,1],[3,2],[1,1]])\n",
        "C = np.matmul(A,B)\n",
        "D = np.matmul(B,A)\n",
        "print(C)\n",
        "print(D)"
      ]
    },
    {
      "cell_type": "markdown",
      "id": "c582dcbf-786c-41ec-a80a-f323af5ef346",
      "metadata": {
        "id": "c582dcbf-786c-41ec-a80a-f323af5ef346"
      },
      "source": [
        "### Linear Trasnformation\n",
        "\n",
        "Imagine a [0,1],[1,0] matrix:\n",
        "\n",
        "![LT1.png](attachment:ab7e03e3-cb93-49b7-b032-6f323013750b.png)\n",
        "\n",
        "Any Linear Transformation will follow the grid created by the orthogonal vectors.\n",
        "\n",
        "If a matrix is given as [0,1],[1,1], the grid will be different, this can be interpreted as how the matrix \"moves\".\n",
        "\n",
        "![LT2.png](attachment:fdd0eccf-7bbf-4829-a423-37a862e26a94.png)"
      ]
    },
    {
      "cell_type": "markdown",
      "id": "af4a159e-d9ba-439f-9d7c-b8c52451e234",
      "metadata": {
        "id": "af4a159e-d9ba-439f-9d7c-b8c52451e234"
      },
      "source": [
        "### Determinant\n",
        "Determinants is a scalar value that represents the matrix. It is an useful tool to understand if the matrix has an inverse. One way to conceptualize the determinant is as the area/volume of the parallelogram/parallelepiped that the vectors of the matrix represents.\n",
        "\n",
        "For a 2x2 matrix A = [[a, b], [c, d]], the determinant is given by det(A) = ad - bc.\n",
        "For a 3x3 matrix A = [[a, b, c], [d, e, f], [g, h, i]],, we can choose a row and and use the following formula:\n",
        "Det(A) = a (ei − fh) − b (di − fg) + c (dh − eg)\n",
        "\n",
        "![det3_3.png](attachment:daaef5c3-6bcf-4744-a114-aa72e4a5938c.png)\n",
        "\n",
        "**Example**:\n",
        "\n",
        "![det.png](attachment:1772e1b8-2d51-4770-bd94-d51869e0a895.png)\n"
      ]
    },
    {
      "cell_type": "code",
      "execution_count": null,
      "id": "0609872e-ef66-478d-b196-62a77db20830",
      "metadata": {
        "id": "0609872e-ef66-478d-b196-62a77db20830",
        "outputId": "0a337ac1-92c3-4904-ca45-41434249ca53"
      },
      "outputs": [
        {
          "name": "stdout",
          "output_type": "stream",
          "text": [
            "49.000000000000014\n"
          ]
        }
      ],
      "source": [
        "A = np.array([[2,-3,1],[2,0,-1],[1,4,5]])\n",
        "det = np.linalg.det(A)\n",
        "print(det)"
      ]
    },
    {
      "cell_type": "markdown",
      "id": "67101968-a3f4-4368-ae47-383b78d6490a",
      "metadata": {
        "id": "67101968-a3f4-4368-ae47-383b78d6490a"
      },
      "source": [
        "### Rank of a Matrix\n",
        "Rank of a matrix can be used to understand how many rows/columns are unique.The rank of a matrix is also closely related to the determinant of the matrix. Specifically, a matrix is invertible if and only if its determinant is nonzero, which is equivalent to its rank being equal to its size.\n",
        "\n",
        "**Example:**\n",
        "A Matrix A has two rows/columns:\n",
        "\n",
        "![rank.png](attachment:4f0464d6-f147-440c-aba0-8c65c6a13f74.png)\n",
        "\n",
        "Even though, there is 2 rows, they are linear dependent. So the Rank of this matrix is 1.\n"
      ]
    },
    {
      "cell_type": "code",
      "execution_count": null,
      "id": "48e32956-77f3-4e87-80f1-14c0bc19048d",
      "metadata": {
        "id": "48e32956-77f3-4e87-80f1-14c0bc19048d",
        "outputId": "51b2cdd7-4e91-4239-ad9c-4cfcc95cc0a8"
      },
      "outputs": [
        {
          "name": "stdout",
          "output_type": "stream",
          "text": [
            "1\n"
          ]
        }
      ],
      "source": [
        "import numpy as np\n",
        "A = np.array([[2,1],[4,2]])\n",
        "rank = np.linalg.matrix_rank(A)\n",
        "print(rank)"
      ]
    },
    {
      "cell_type": "markdown",
      "id": "b5629607-5901-4e82-a6db-e8e520966fbe",
      "metadata": {
        "id": "b5629607-5901-4e82-a6db-e8e520966fbe"
      },
      "source": [
        "### Row Echolon Form to Find Rank (and solve linear equations)\n",
        "Simple row transformations can be used to represent a matrix in their simplest versions (Row Echolon Form)\n",
        "\n",
        "![row_echolon.png](attachment:22c06cd2-5ad1-4974-bab0-b1d3d4a03d51.png)\n",
        "\n",
        "The number of non-zero rows represents the rank of the matrix. Rank(B) = 2"
      ]
    },
    {
      "cell_type": "code",
      "execution_count": null,
      "id": "175a0b53-bb4b-44b3-8064-aaeac98435b1",
      "metadata": {
        "id": "175a0b53-bb4b-44b3-8064-aaeac98435b1",
        "outputId": "8c1db7ac-0141-4082-8903-f3dd8d80ebd0"
      },
      "outputs": [
        {
          "name": "stdout",
          "output_type": "stream",
          "text": [
            "Matrix([[1, 2, 1], [-2, -3, 1], [3, 5, 0], [2, 4, 2]])\n",
            "(Matrix([\n",
            "[1, 0, -5],\n",
            "[0, 1,  3],\n",
            "[0, 0,  0],\n",
            "[0, 0,  0]]), (0, 1))\n"
          ]
        }
      ],
      "source": [
        "from sympy import *\n",
        "A = Matrix([[1,2,1],[-2,-3,1],[3,5,0],[2,4,2]])\n",
        "print(A)\n",
        "B = A.rref()\n",
        "print(B)"
      ]
    },
    {
      "cell_type": "code",
      "execution_count": null,
      "id": "f91facd8-19d2-4ea0-a747-d76c5416df65",
      "metadata": {
        "id": "f91facd8-19d2-4ea0-a747-d76c5416df65",
        "outputId": "66e277b3-c838-494f-c796-6e4eb6400220"
      },
      "outputs": [
        {
          "name": "stdout",
          "output_type": "stream",
          "text": [
            "2\n"
          ]
        }
      ],
      "source": [
        "import numpy as np\n",
        "A = np.array([[1,2,1],[-2,-3,1],[3,5,0],[2,4,2]])\n",
        "print(np.linalg.matrix_rank(A))"
      ]
    },
    {
      "cell_type": "markdown",
      "id": "9eafdaea-8bf5-4431-b733-f9f40760a3b8",
      "metadata": {
        "id": "9eafdaea-8bf5-4431-b733-f9f40760a3b8"
      },
      "source": [
        "### Transpose\n",
        "The transpose of a matrix is the matrix with i and j coordinates flipped.\n",
        "\n",
        "If:\n",
        "\n",
        "![transpose.png](attachment:38f2ac12-8a55-4b0f-9b80-9eb6665ac9e6.png)\n",
        "\n",
        "Then:\n",
        "\n",
        "![transpose2.png](attachment:f25d38cf-3a8d-4f15-842a-9574d3796116.png)"
      ]
    },
    {
      "cell_type": "code",
      "execution_count": null,
      "id": "7b2626c5-cb0a-482f-8271-6b5f844c430c",
      "metadata": {
        "id": "7b2626c5-cb0a-482f-8271-6b5f844c430c",
        "outputId": "c0736f7b-fe68-4d4e-c294-026224f60a4f"
      },
      "outputs": [
        {
          "name": "stdout",
          "output_type": "stream",
          "text": [
            "Original matrix:\n",
            " [[1 2]\n",
            " [3 4]]\n",
            "Transpose matrix:\n",
            " [[1 3]\n",
            " [2 4]]\n",
            "Transpose of transpose matrix:\n",
            " [[1 2]\n",
            " [3 4]]\n"
          ]
        }
      ],
      "source": [
        "import numpy as np\n",
        "matrix = np.array([[1, 2], [3, 4]])\n",
        "transpose_matrix = np.transpose(matrix)\n",
        "transpose_of_transpose = np.transpose(transpose_matrix)\n",
        "print(\"Original matrix:\\n\", matrix)\n",
        "print(\"Transpose matrix:\\n\", transpose_matrix)\n",
        "print(\"Transpose of transpose matrix:\\n\", transpose_of_transpose)"
      ]
    },
    {
      "cell_type": "markdown",
      "id": "50a4a7fc-cdbf-4ca7-bec5-83784547a5c8",
      "metadata": {
        "id": "50a4a7fc-cdbf-4ca7-bec5-83784547a5c8"
      },
      "source": [
        "### Inverse\n",
        "The inverse of a square matrix A is another matrix A^-1 that, when multiplied by A, gives the identity matrix I.\n",
        "\n",
        "More formally, for a square matrix A, its inverse A^-1 is defined as:\n",
        "\n",
        "A * A^-1 = A^-1 * A = I\n",
        "\n",
        "where I is the identity matrix of the same size as A.\n",
        "\n",
        "Not all square matrices have inverses, and a square matrix A has an inverse if and only if its determinant is nonzero. In that case, the inverse can be found using a formula that involves the determinant and the adjugate (also known as the classical adjoint) of A.\n",
        "\n",
        "The adjugate of a matrix A, denoted adj(A), is the transpose of the matrix of cofactors of A, where the cofactor of an element a_ij is (-1)^(i+j) times the determinant of the submatrix obtained by deleting the i-th row and j-th column of A.\n",
        "\n",
        "The formula for the inverse of A is then:\n",
        "\n",
        "A^-1 = (1/det(A)) * adj(A)\n",
        "\n",
        "where det(A) is the determinant of A.\n",
        "\n",
        "The inverse of a matrix has many important applications, such as solving systems of linear equations, finding eigenvectors and eigenvalues, and diagonalizing matrices.\n",
        "\n",
        "![Inverse.png](attachment:f169d771-778b-414a-8ed2-5e013f5f25de.png)\n",
        "\n",
        "To calculate the inverse you need to use the following formulas:\n",
        "\n",
        "![Inverse1.png](attachment:afd3b2da-c7aa-4959-a547-07c13c2d9eae.png)\n",
        "\n",
        "**Example 2x2**\n",
        "\n",
        "![Inverse2.png](attachment:6a675fb7-addc-453f-850a-2b271489e3c2.png)\n",
        "\n",
        "\n"
      ]
    },
    {
      "cell_type": "code",
      "execution_count": null,
      "id": "f3f99167-3273-40e1-89c1-43def261ba9d",
      "metadata": {
        "id": "f3f99167-3273-40e1-89c1-43def261ba9d",
        "outputId": "727b8a87-0ca8-4fa3-9e43-273bf3cde43c"
      },
      "outputs": [
        {
          "name": "stdout",
          "output_type": "stream",
          "text": [
            "[[ 0.6 -0.7]\n",
            " [-0.2  0.4]]\n"
          ]
        }
      ],
      "source": [
        "A = np.array([[4,7],[2,6]])\n",
        "AInv = np.linalg.inv(A)\n",
        "print(AInv)"
      ]
    },
    {
      "cell_type": "markdown",
      "id": "892fbe7b-ad98-4a9c-a307-cb9bef46fa7c",
      "metadata": {
        "id": "892fbe7b-ad98-4a9c-a307-cb9bef46fa7c"
      },
      "source": [
        "**Example 3x3**\n",
        "\n",
        "![inverse33.png](attachment:b9615dbb-206e-42ec-a675-576dd17d1e0d.png)\n",
        "\n",
        "First let's calculate C:\n",
        "\n",
        "![Inverse C.png](attachment:e9e7ded8-e436-4ed9-926b-43839e26afef.png)\n",
        "\n",
        "CT:\n",
        "\n",
        "![InverseCt.png](attachment:f7c64449-27d0-4c7d-b3f8-d54169c37e88.png)\n",
        "\n",
        "Inverse:\n",
        "\n",
        "![Inverse Solution.png](attachment:5a19e043-0987-4bd2-a23b-0895242a7e72.png)\n"
      ]
    },
    {
      "cell_type": "code",
      "execution_count": null,
      "id": "ef39af74-21f4-448e-b468-01394778f2da",
      "metadata": {
        "id": "ef39af74-21f4-448e-b468-01394778f2da",
        "outputId": "6d36f245-e53a-4aec-83d4-31a4b96b9fb3"
      },
      "outputs": [
        {
          "name": "stdout",
          "output_type": "stream",
          "text": [
            "[[ 0.1875  0.25   -0.3125]\n",
            " [ 0.25    0.      0.25  ]\n",
            " [-0.3125  0.25    0.1875]]\n"
          ]
        }
      ],
      "source": [
        "A = np.array([[1,2,-1],[2,1,2],[-1,2,1]])\n",
        "AInv = np.linalg.inv(A)\n",
        "print(AInv)"
      ]
    },
    {
      "cell_type": "markdown",
      "id": "71b8de27-941e-48cc-bdf6-0bbdb550b06b",
      "metadata": {
        "id": "71b8de27-941e-48cc-bdf6-0bbdb550b06b"
      },
      "source": [
        "### Eigenvectors & EigenValues\n",
        "An eigenvector of a matrix A is a nonzero vector x that, when multiplied by A, results in a scalar multiple of x. This scalar multiple is called the eigenvalue corresponding to the eigenvector x. Mathematically, we can represent this as:\n",
        "\n",
        "A x = λ x\n",
        "\n",
        "where λ is the eigenvalue and x is the eigenvector.\n",
        "\n",
        "![eigen.png](attachment:97fcfeaf-4ba4-4e4c-be9c-0f6ccc157376.png)\n",
        "\n",
        "**Example 2x2**\n",
        "\n",
        "![eigen22.png](attachment:256b1e98-227b-4d60-b58d-75b74f40a397.png)\n",
        "\n",
        "To find eigenvalues and their eigenvectors you need to follow two steps:\n",
        "\n",
        "![eigencalc.png](attachment:fdd2d082-f2e3-4f42-ac72-db8e1c3babb3.png)\n",
        "\n",
        "**Example**\n",
        "Find the eigenvalue for:\n",
        "\n",
        "![eigen3.png](attachment:967eef10-57de-4357-9071-405a81825b0d.png)\n",
        "\n",
        "First let's find Aλ-I:\n",
        "\n",
        "![eigen4.png](attachment:01b337af-79c5-4e3e-9041-4c101c9d107a.png)\n",
        "\n",
        "Then:\n",
        "\n",
        "![eigen5.png](attachment:ddaa6151-c221-4fa9-b4c6-0e35ea0b39c5.png)\n",
        "\n",
        "\n"
      ]
    },
    {
      "cell_type": "code",
      "execution_count": null,
      "id": "c978777c-71ee-44b5-b50e-b1c1acff1bdc",
      "metadata": {
        "id": "c978777c-71ee-44b5-b50e-b1c1acff1bdc",
        "outputId": "7bd83fcf-fd8c-4621-d18b-e27f4a5150da"
      },
      "outputs": [
        {
          "name": "stdout",
          "output_type": "stream",
          "text": [
            "A: \n",
            " [[5 4]\n",
            " [1 2]]\n",
            "Eigenvalues: \n",
            " [6. 1.]\n"
          ]
        }
      ],
      "source": [
        "A = np.mat([[5,4],[1,2]])\n",
        "print(\"A: \\n\", A)\n",
        "eigenvalue = np.linalg.eig(A)[0]\n",
        "print(\"Eigenvalues: \\n\", eigenvalue)"
      ]
    }
  ],
  "metadata": {
    "kernelspec": {
      "display_name": "Python 3 (ipykernel)",
      "language": "python",
      "name": "python3"
    },
    "language_info": {
      "codemirror_mode": {
        "name": "ipython",
        "version": 3
      },
      "file_extension": ".py",
      "mimetype": "text/x-python",
      "name": "python",
      "nbconvert_exporter": "python",
      "pygments_lexer": "ipython3",
      "version": "3.11.4"
    },
    "colab": {
      "provenance": [],
      "include_colab_link": true
    }
  },
  "nbformat": 4,
  "nbformat_minor": 5
}